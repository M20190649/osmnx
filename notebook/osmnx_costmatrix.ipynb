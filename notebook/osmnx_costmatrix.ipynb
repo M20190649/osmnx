{
 "cells": [
  {
   "cell_type": "markdown",
   "metadata": {},
   "source": [
    "### OSMから取得した道路ネットワークデータを用いて、距離表を生成する\n",
    "\n",
    "osmnxモジュールを用いて取得した道路ネットワークデータを用い、任意に選んだPOI同士の距離を推定する"
   ]
  },
  {
   "cell_type": "code",
   "execution_count": 81,
   "metadata": {
    "scrolled": true
   },
   "outputs": [
    {
     "data": {
      "text/plain": [
       "<networkx.classes.multidigraph.MultiDiGraph at 0x11b553a58>"
      ]
     },
     "execution_count": 81,
     "metadata": {},
     "output_type": "execute_result"
    }
   ],
   "source": [
    "import folium\n",
    "from IPython.display import IFrame\n",
    "import matplotlib.pyplot as plt\n",
    "import networkx as nx\n",
    "import numpy as np\n",
    "import osmnx as ox\n",
    "\n",
    "ox.config(use_cache=True, log_console=True)\n",
    "\n",
    "%matplotlib inline\n",
    "\n",
    "#＃＃　皇居から半径20００ｍの道路ネットワークをOSMから生成する （車道）###\n",
    "imperial_palace = (35.6812,139.7518)\n",
    "G = ox.graph_from_point(imperial_palace, distance=2000, network_type='drive', simplify=False)\n",
    "G\n"
   ]
  },
  {
   "cell_type": "code",
   "execution_count": 82,
   "metadata": {},
   "outputs": [
    {
     "data": {
      "text/plain": [
       "<networkx.classes.multidigraph.MultiDiGraph at 0x11c332c18>"
      ]
     },
     "execution_count": 82,
     "metadata": {},
     "output_type": "execute_result"
    }
   ],
   "source": [
    "# 高速道路を除去\n",
    "non_motorway = [ (u, v, k, data) for u, v, k, data in G.edges(keys=True, data=True)  if data['highway'] == 'motorway']\n",
    "G.remove_edges_from(non_motorway)\n",
    "G = ox.remove_isolated_nodes(G)\n",
    "G = ox.simplify_graph(G)\n",
    "G\n"
   ]
  },
  {
   "cell_type": "code",
   "execution_count": 86,
   "metadata": {},
   "outputs": [
    {
     "data": {
      "text/plain": [
       "[(35.664333, 139.732863),\n",
       " (35.661785, 139.735662),\n",
       " (35.663956, 139.738678),\n",
       " (35.67153, 139.741861),\n",
       " (35.672438, 139.742671),\n",
       " (35.671773, 139.735621),\n",
       " (35.674275, 139.737802)]"
      ]
     },
     "execution_count": 86,
     "metadata": {},
     "output_type": "execute_result"
    }
   ],
   "source": [
    "# Point of interest\n",
    "poi = [(35.664333, 139.732863), \n",
    "           (35.661785, 139.735662),\n",
    "           (35.663956, 139.738678),\n",
    "           (35.671530, 139.741861),\n",
    "           (35.672438, 139.742671),\n",
    "           (35.671773, 139.735621),\n",
    "           (35.674275, 139.737802)]\n"
   ]
  },
  {
   "cell_type": "code",
   "execution_count": 107,
   "metadata": {
    "scrolled": true
   },
   "outputs": [
    {
     "data": {
      "text/plain": [
       "[[0, 16, 14, 15, 17, 13, 18, 6, 21],\n",
       " [11, 0, 5, 17, 19, 20, 22, 11, 25],\n",
       " [21, 12, 0, 17, 19, 22, 22, 16, 25],\n",
       " [17, 17, 15, 0, 4, 6, 5, 14, 8],\n",
       " [21, 20, 17, 4, 0, 10, 9, 18, 12],\n",
       " [12, 19, 17, 8, 10, 0, 6, 10, 9],\n",
       " [15, 17, 15, 6, 8, 4, 0, 12, 5],\n",
       " [5, 12, 10, 11, 13, 11, 16, 0, 19],\n",
       " [19, 21, 19, 9, 11, 8, 4, 16, 0]]"
      ]
     },
     "execution_count": 107,
     "metadata": {},
     "output_type": "execute_result"
    }
   ],
   "source": [
    "# ルート探索\n",
    "# ノードを指定\n",
    "start_point = (35.666116, 139.736812) #スタート\n",
    "destination_point = (35.676432, 139.736318) #デイリーヤマザキ赤坂見附店\n",
    "\n",
    "poi.append(start_point)\n",
    "poi.append(destination_point)\n",
    "\n",
    "count = 9\n",
    "matrix = [[0 for i in range(count)] for j in range(count)]\n",
    "\n",
    "for x in range(count):\n",
    "    for y in range(count):\n",
    "        node1 = ox.get_nearest_node(G, poi[x])\n",
    "        node2 = ox.get_nearest_node(G, poi[y])\n",
    "        dist = nx.shortest_path_length(G, node1, node2)\n",
    "        matrix[x][y] = dist\n",
    "\n",
    "matrix \n",
    "\n"
   ]
  },
  {
   "cell_type": "code",
   "execution_count": null,
   "metadata": {},
   "outputs": [],
   "source": []
  },
  {
   "cell_type": "code",
   "execution_count": null,
   "metadata": {},
   "outputs": [],
   "source": []
  },
  {
   "cell_type": "code",
   "execution_count": null,
   "metadata": {},
   "outputs": [],
   "source": []
  }
 ],
 "metadata": {
  "kernelspec": {
   "display_name": "Python 3",
   "language": "python",
   "name": "python3"
  },
  "language_info": {
   "codemirror_mode": {
    "name": "ipython",
    "version": 3
   },
   "file_extension": ".py",
   "mimetype": "text/x-python",
   "name": "python",
   "nbconvert_exporter": "python",
   "pygments_lexer": "ipython3",
   "version": "3.6.5"
  }
 },
 "nbformat": 4,
 "nbformat_minor": 2
}
