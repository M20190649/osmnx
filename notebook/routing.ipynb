{
 "cells": [
  {
   "cell_type": "code",
   "execution_count": null,
   "metadata": {},
   "outputs": [],
   "source": [
    "### OSMから取得した道路ネットワークデータで、二点間最短ルートを計算する\n",
    "\n",
    "osmnxモジュールを用いて取得した道路ネットワークデータを用い、任意に選んだPOI同士の最短ルートを計算する"
   ]
  },
  {
   "cell_type": "code",
   "execution_count": null,
   "metadata": {
    "scrolled": true
   },
   "outputs": [],
   "source": [
    "import folium\n",
    "from IPython.display import IFrame\n",
    "import matplotlib.pyplot as plt\n",
    "import networkx as nx\n",
    "import numpy as np\n",
    "import osmnx as ox\n",
    "\n",
    "ox.config(use_cache=True, log_console=True)\n",
    "\n",
    "%matplotlib inline\n",
    "\n",
    "#＃＃　皇居から半径20００ｍの道路ネットワークをOSMから生成する （車道）###\n",
    "imperial_palace = (35.6812,139.7518)\n",
    "G = ox.graph_from_point(imperial_palace, distance=2000, network_type='drive', simplify=False)\n",
    "G\n",
    "\n"
   ]
  },
  {
   "cell_type": "code",
   "execution_count": null,
   "metadata": {},
   "outputs": [],
   "source": [
    "# 高速道路を除去\n",
    "non_motorway = [ (u, v, k, data) for u, v, k, data in G.edges(keys=True, data=True)  if data['highway'] == 'motorway']\n",
    "G.remove_edges_from(non_motorway)\n",
    "G = ox.remove_isolated_nodes(G)\n",
    "G = ox.simplify_graph(G)\n",
    "G\n"
   ]
  },
  {
   "cell_type": "code",
   "execution_count": null,
   "metadata": {},
   "outputs": [],
   "source": [
    "#  html 出力　name属性付き folium\n",
    "graph_map = ox.plot_graph_folium(G, popup_attribute='name', edge_width=2, edge_color='green', edge_opacity='0.8')\n",
    "filepath = 'data/graph.html'\n",
    "graph_map.save(filepath)\n",
    "IFrame(filepath, width=800, height=800)\n",
    "\n"
   ]
  },
  {
   "cell_type": "code",
   "execution_count": null,
   "metadata": {},
   "outputs": [],
   "source": [
    "# ルート探索\n",
    "# ノードを指定\n",
    "start_point = (35.666116, 139.736812) #スタート\n",
    "destination_point = (35.676432, 139.736318) #デイリーヤマザキ赤坂見附店\n",
    "start = ox.get_nearest_node(G, start_point)\n",
    "destination = ox.get_nearest_node(G, destination_point)\n",
    "route = nx.shortest_path(G, start, destination)\n"
   ]
  },
  {
   "cell_type": "code",
   "execution_count": null,
   "metadata": {},
   "outputs": [],
   "source": [
    "# 表示地図上にうpロット\n",
    "map = ox.plot_route_folium(G, route, route_color='green')\n",
    "folium.Marker(location=start_point, icon=folium.Icon(color='red')).add_to(map)\n",
    "folium.Marker(location=destination_point, icon=folium.Icon(color='blue')).add_to(map)\n",
    "map"
   ]
  },
  {
   "cell_type": "code",
   "execution_count": null,
   "metadata": {},
   "outputs": [],
   "source": []
  }
 ],
 "metadata": {
  "kernelspec": {
   "display_name": "Python 3",
   "language": "python",
   "name": "python3"
  },
  "language_info": {
   "codemirror_mode": {
    "name": "ipython",
    "version": 3
   },
   "file_extension": ".py",
   "mimetype": "text/x-python",
   "name": "python",
   "nbconvert_exporter": "python",
   "pygments_lexer": "ipython3",
   "version": "3.6.5"
  }
 },
 "nbformat": 4,
 "nbformat_minor": 2
}
